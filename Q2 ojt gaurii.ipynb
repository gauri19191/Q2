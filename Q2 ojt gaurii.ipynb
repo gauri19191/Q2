{
 "cells": [
  {
   "cell_type": "markdown",
   "id": "c65195b6",
   "metadata": {},
   "source": [
    "# Q2. Row Echelon Form:\n",
    "Create a 5x5 matrix, A, with entries randomly chosen integers between 0 and 9. To generate the\n",
    "random matrix, set the random seed as the last two digits of your roll number. Reduce matrix A to its\n",
    "Row Echelon Form by performing elementary row operations"
   ]
  },
  {
   "cell_type": "code",
   "execution_count": 3,
   "id": "70362f88",
   "metadata": {},
   "outputs": [],
   "source": [
    "import numpy as np"
   ]
  },
  {
   "cell_type": "code",
   "execution_count": 4,
   "id": "a5860c68",
   "metadata": {},
   "outputs": [],
   "source": [
    "roll_number = 61 # Replace 61 with your actual last two digits\n",
    "np.random.seed(roll_number)"
   ]
  },
  {
   "cell_type": "code",
   "execution_count": 5,
   "id": "caf8ade2",
   "metadata": {},
   "outputs": [
    {
     "name": "stdout",
     "output_type": "stream",
     "text": [
      "Original matrix A:\n",
      "[[3 2 2 0 2]\n",
      " [1 7 5 3 7]\n",
      " [0 9 3 4 6]\n",
      " [2 3 5 8 2]\n",
      " [6 3 2 9 1]]\n"
     ]
    }
   ],
   "source": [
    "A = np.random.randint(0, 10, size=(5, 5))\n",
    "print(\"Original matrix A:\")\n",
    "print(A)"
   ]
  },
  {
   "cell_type": "code",
   "execution_count": 6,
   "id": "c8afa97b",
   "metadata": {},
   "outputs": [],
   "source": [
    "# Function to perform elementary row operations to reduce to row echelon form\n",
    "def row_echelon_form(matrix):\n",
    "    m, n = matrix.shape\n",
    "    lead = 0\n",
    "    for r in range(m):\n",
    "        if lead >= n:\n",
    "            break\n",
    "        i = r\n",
    "        while matrix[i, lead] == 0:\n",
    "            i += 1\n",
    "            if i == m:\n",
    "                i = r\n",
    "                lead += 1\n",
    "                if n == lead:\n",
    "                    break\n",
    "        matrix[[r, i]] = matrix[[i, r]]\n",
    "        lv = matrix[r, lead]\n",
    "        matrix[r] = matrix[r] / lv\n",
    "        for i in range(m):\n",
    "            if i != r:\n",
    "                lv = matrix[i, lead]\n",
    "                matrix[i] -= lv * matrix[r]\n",
    "        lead += 1\n",
    "    return matrix"
   ]
  },
  {
   "cell_type": "code",
   "execution_count": 7,
   "id": "3c189ede",
   "metadata": {},
   "outputs": [
    {
     "name": "stdout",
     "output_type": "stream",
     "text": [
      "\n",
      "Row Echelon Form of matrix A:\n",
      "[[1 0 0 0 0]\n",
      " [0 1 0 0 0]\n",
      " [0 0 1 0 0]\n",
      " [0 0 0 1 0]\n",
      " [0 0 0 0 1]]\n"
     ]
    }
   ],
   "source": [
    "# Reduce matrix A to its row echelon form\n",
    "A_row_echelon = row_echelon_form(A)\n",
    "print(\"\\nRow Echelon Form of matrix A:\")\n",
    "print(A_row_echelon)"
   ]
  },
  {
   "cell_type": "code",
   "execution_count": null,
   "id": "b3ac590e",
   "metadata": {},
   "outputs": [],
   "source": []
  }
 ],
 "metadata": {
  "kernelspec": {
   "display_name": "Python 3 (ipykernel)",
   "language": "python",
   "name": "python3"
  },
  "language_info": {
   "codemirror_mode": {
    "name": "ipython",
    "version": 3
   },
   "file_extension": ".py",
   "mimetype": "text/x-python",
   "name": "python",
   "nbconvert_exporter": "python",
   "pygments_lexer": "ipython3",
   "version": "3.11.5"
  }
 },
 "nbformat": 4,
 "nbformat_minor": 5
}
